{
  "cells": [
    {
      "cell_type": "code",
      "execution_count": 7,
      "metadata": {
        "id": "V5fnJjROUKdG"
      },
      "outputs": [],
      "source": [
        "from datetime import datetime, timedelta\n",
        "from dateutil.rrule import rrule, WEEKLY\n",
        "\n",
        "def get_dates(start_date_str, end_date_str, day_of_week):\n",
        "    \"\"\"Determine weekly session dates for given course timeframe\"\"\"\n",
        "    # Parse the start and end dates\n",
        "    start_date = datetime.strptime(start_date_str, '%Y-%m-%d')\n",
        "    end_date = datetime.strptime(end_date_str, '%Y-%m-%d')\n",
        "\n",
        "    # Dictionary to map day names to weekday numbers\n",
        "    days = {\n",
        "        \"Monday\": 0,\n",
        "        \"Tuesday\": 1,\n",
        "        \"Wednesday\": 2,\n",
        "        \"Thursday\": 3,\n",
        "        \"Friday\": 4,\n",
        "        \"Saturday\": 5,\n",
        "        \"Sunday\": 6,\n",
        "    }\n",
        "\n",
        "    # Convert day_of_week to a number\n",
        "    weekday_number = days[day_of_week]\n",
        "\n",
        "    # Generate dates\n",
        "    dates = list(rrule(WEEKLY, dtstart=start_date, until=end_date, byweekday=weekday_number))[:10]\n",
        "\n",
        "    # Convert dates to strings in the format MM/DD\n",
        "    date_strings = [date.strftime('%m/%d') for date in dates]\n",
        "\n",
        "    return date_strings\n",
        "\n"
      ]
    },
    {
      "cell_type": "code",
      "execution_count": 12,
      "metadata": {
        "colab": {
          "base_uri": "https://localhost:8080/"
        },
        "id": "0TVxXk5LUxV_",
        "outputId": "b2655c5c-febc-483e-820f-62697248c04b"
      },
      "outputs": [
        {
          "name": "stdout",
          "output_type": "stream",
          "text": [
            "Course Dates:\n",
            "04/05\n",
            "04/12\n",
            "04/19\n",
            "04/26\n",
            "05/03\n",
            "05/10\n",
            "05/17\n",
            "05/24\n",
            "05/31\n",
            "06/07\n"
          ]
        }
      ],
      "source": [
        "# Use case\n",
        "start_date = \"2024-04-05\"  # Start date of the course\n",
        "end_date = \"2024-06-07\"    # End date of the course\n",
        "day_of_week = \"Friday\"   # Day of the week\n",
        "\n",
        "dates = get_dates(start_date, end_date, day_of_week)\n",
        "print(\"Course Dates:\")\n",
        "for date in dates:\n",
        "    print(date)"
      ]
    },
    {
      "cell_type": "code",
      "execution_count": null,
      "metadata": {
        "id": "-khit2sQU1VH"
      },
      "outputs": [],
      "source": []
    }
  ],
  "metadata": {
    "colab": {
      "provenance": []
    },
    "kernelspec": {
      "display_name": "Python 3",
      "name": "python3"
    },
    "language_info": {
      "name": "python"
    }
  },
  "nbformat": 4,
  "nbformat_minor": 0
}
