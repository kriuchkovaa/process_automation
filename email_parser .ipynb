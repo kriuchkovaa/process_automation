{
  "nbformat": 4,
  "nbformat_minor": 0,
  "metadata": {
    "colab": {
      "provenance": []
    },
    "kernelspec": {
      "name": "python3",
      "display_name": "Python 3"
    },
    "language_info": {
      "name": "python"
    }
  },
  "cells": [
    {
      "cell_type": "code",
      "source": [
        "! pip install xlsxwriter         "
      ],
      "metadata": {
        "id": "4M_bdnUPBoga"
      },
      "execution_count": null,
      "outputs": []
    },
    {
      "cell_type": "code",
      "execution_count": 17,
      "metadata": {
        "id": "UkTmvSI77KV-"
      },
      "outputs": [],
      "source": [
        "# Importing dependencies \n",
        "import pandas as pd \n",
        "import re\n",
        "import numpy as np \n",
        "import xlsxwriter"
      ]
    },
    {
      "cell_type": "code",
      "source": [
        "# Opening the file and checking content\n",
        "df = pd.read_csv(\"sent files.CSV\")         # change file name in the brackets to your input\n",
        "df.head()"
      ],
      "metadata": {
        "colab": {
          "base_uri": "https://localhost:8080/",
          "height": 206
        },
        "id": "2XtQwgl17X1I",
        "outputId": "c6f5216d-4201-48aa-f744-a5e493b87dfa"
      },
      "execution_count": 18,
      "outputs": [
        {
          "output_type": "execute_result",
          "data": {
            "text/plain": [
              "                                       To: (Address)  \\\n",
              "0  /o=ExchangeLabs/ou=Exchange Administrative Gro...   \n",
              "1  /o=ExchangeLabs/ou=Exchange Administrative Gro...   \n",
              "2  /o=ExchangeLabs/ou=Exchange Administrative Gro...   \n",
              "3                                mburggre@amazon.com   \n",
              "4  /o=ExchangeLabs/ou=Exchange Administrative Gro...   \n",
              "\n",
              "                                       CC: (Address) BCC: (Address)  \n",
              "0  /o=ExchangeLabs/ou=Exchange Administrative Gro...            NaN  \n",
              "1                                                NaN            NaN  \n",
              "2                                                NaN            NaN  \n",
              "3                                                NaN            NaN  \n",
              "4  /o=ExchangeLabs/ou=Exchange Administrative Gro...            NaN  "
            ],
            "text/html": [
              "\n",
              "  <div id=\"df-81b061d5-e165-47ac-acb0-cd08aadec950\">\n",
              "    <div class=\"colab-df-container\">\n",
              "      <div>\n",
              "<style scoped>\n",
              "    .dataframe tbody tr th:only-of-type {\n",
              "        vertical-align: middle;\n",
              "    }\n",
              "\n",
              "    .dataframe tbody tr th {\n",
              "        vertical-align: top;\n",
              "    }\n",
              "\n",
              "    .dataframe thead th {\n",
              "        text-align: right;\n",
              "    }\n",
              "</style>\n",
              "<table border=\"1\" class=\"dataframe\">\n",
              "  <thead>\n",
              "    <tr style=\"text-align: right;\">\n",
              "      <th></th>\n",
              "      <th>To: (Address)</th>\n",
              "      <th>CC: (Address)</th>\n",
              "      <th>BCC: (Address)</th>\n",
              "    </tr>\n",
              "  </thead>\n",
              "  <tbody>\n",
              "    <tr>\n",
              "      <th>0</th>\n",
              "      <td>/o=ExchangeLabs/ou=Exchange Administrative Gro...</td>\n",
              "      <td>/o=ExchangeLabs/ou=Exchange Administrative Gro...</td>\n",
              "      <td>NaN</td>\n",
              "    </tr>\n",
              "    <tr>\n",
              "      <th>1</th>\n",
              "      <td>/o=ExchangeLabs/ou=Exchange Administrative Gro...</td>\n",
              "      <td>NaN</td>\n",
              "      <td>NaN</td>\n",
              "    </tr>\n",
              "    <tr>\n",
              "      <th>2</th>\n",
              "      <td>/o=ExchangeLabs/ou=Exchange Administrative Gro...</td>\n",
              "      <td>NaN</td>\n",
              "      <td>NaN</td>\n",
              "    </tr>\n",
              "    <tr>\n",
              "      <th>3</th>\n",
              "      <td>mburggre@amazon.com</td>\n",
              "      <td>NaN</td>\n",
              "      <td>NaN</td>\n",
              "    </tr>\n",
              "    <tr>\n",
              "      <th>4</th>\n",
              "      <td>/o=ExchangeLabs/ou=Exchange Administrative Gro...</td>\n",
              "      <td>/o=ExchangeLabs/ou=Exchange Administrative Gro...</td>\n",
              "      <td>NaN</td>\n",
              "    </tr>\n",
              "  </tbody>\n",
              "</table>\n",
              "</div>\n",
              "      <button class=\"colab-df-convert\" onclick=\"convertToInteractive('df-81b061d5-e165-47ac-acb0-cd08aadec950')\"\n",
              "              title=\"Convert this dataframe to an interactive table.\"\n",
              "              style=\"display:none;\">\n",
              "        \n",
              "  <svg xmlns=\"http://www.w3.org/2000/svg\" height=\"24px\"viewBox=\"0 0 24 24\"\n",
              "       width=\"24px\">\n",
              "    <path d=\"M0 0h24v24H0V0z\" fill=\"none\"/>\n",
              "    <path d=\"M18.56 5.44l.94 2.06.94-2.06 2.06-.94-2.06-.94-.94-2.06-.94 2.06-2.06.94zm-11 1L8.5 8.5l.94-2.06 2.06-.94-2.06-.94L8.5 2.5l-.94 2.06-2.06.94zm10 10l.94 2.06.94-2.06 2.06-.94-2.06-.94-.94-2.06-.94 2.06-2.06.94z\"/><path d=\"M17.41 7.96l-1.37-1.37c-.4-.4-.92-.59-1.43-.59-.52 0-1.04.2-1.43.59L10.3 9.45l-7.72 7.72c-.78.78-.78 2.05 0 2.83L4 21.41c.39.39.9.59 1.41.59.51 0 1.02-.2 1.41-.59l7.78-7.78 2.81-2.81c.8-.78.8-2.07 0-2.86zM5.41 20L4 18.59l7.72-7.72 1.47 1.35L5.41 20z\"/>\n",
              "  </svg>\n",
              "      </button>\n",
              "      \n",
              "  <style>\n",
              "    .colab-df-container {\n",
              "      display:flex;\n",
              "      flex-wrap:wrap;\n",
              "      gap: 12px;\n",
              "    }\n",
              "\n",
              "    .colab-df-convert {\n",
              "      background-color: #E8F0FE;\n",
              "      border: none;\n",
              "      border-radius: 50%;\n",
              "      cursor: pointer;\n",
              "      display: none;\n",
              "      fill: #1967D2;\n",
              "      height: 32px;\n",
              "      padding: 0 0 0 0;\n",
              "      width: 32px;\n",
              "    }\n",
              "\n",
              "    .colab-df-convert:hover {\n",
              "      background-color: #E2EBFA;\n",
              "      box-shadow: 0px 1px 2px rgba(60, 64, 67, 0.3), 0px 1px 3px 1px rgba(60, 64, 67, 0.15);\n",
              "      fill: #174EA6;\n",
              "    }\n",
              "\n",
              "    [theme=dark] .colab-df-convert {\n",
              "      background-color: #3B4455;\n",
              "      fill: #D2E3FC;\n",
              "    }\n",
              "\n",
              "    [theme=dark] .colab-df-convert:hover {\n",
              "      background-color: #434B5C;\n",
              "      box-shadow: 0px 1px 3px 1px rgba(0, 0, 0, 0.15);\n",
              "      filter: drop-shadow(0px 1px 2px rgba(0, 0, 0, 0.3));\n",
              "      fill: #FFFFFF;\n",
              "    }\n",
              "  </style>\n",
              "\n",
              "      <script>\n",
              "        const buttonEl =\n",
              "          document.querySelector('#df-81b061d5-e165-47ac-acb0-cd08aadec950 button.colab-df-convert');\n",
              "        buttonEl.style.display =\n",
              "          google.colab.kernel.accessAllowed ? 'block' : 'none';\n",
              "\n",
              "        async function convertToInteractive(key) {\n",
              "          const element = document.querySelector('#df-81b061d5-e165-47ac-acb0-cd08aadec950');\n",
              "          const dataTable =\n",
              "            await google.colab.kernel.invokeFunction('convertToInteractive',\n",
              "                                                     [key], {});\n",
              "          if (!dataTable) return;\n",
              "\n",
              "          const docLinkHtml = 'Like what you see? Visit the ' +\n",
              "            '<a target=\"_blank\" href=https://colab.research.google.com/notebooks/data_table.ipynb>data table notebook</a>'\n",
              "            + ' to learn more about interactive tables.';\n",
              "          element.innerHTML = '';\n",
              "          dataTable['output_type'] = 'display_data';\n",
              "          await google.colab.output.renderOutput(dataTable, element);\n",
              "          const docLink = document.createElement('div');\n",
              "          docLink.innerHTML = docLinkHtml;\n",
              "          element.appendChild(docLink);\n",
              "        }\n",
              "      </script>\n",
              "    </div>\n",
              "  </div>\n",
              "  "
            ]
          },
          "metadata": {},
          "execution_count": 18
        }
      ]
    },
    {
      "cell_type": "code",
      "source": [
        "# Define a regular expression to extract email addresses\n",
        "email_regex = r'\\b[A-Za-z0-9._%+-]+@[A-Za-z0-9.-]+\\.[A-Z|a-z]{2,}\\b'"
      ],
      "metadata": {
        "id": "4hPR3T3v7iIQ"
      },
      "execution_count": 19,
      "outputs": []
    },
    {
      "cell_type": "code",
      "source": [
        "# Extract email addresses from the file\n",
        "emails = []\n",
        "for column in df.columns:\n",
        "    for row in df[column]:\n",
        "        if isinstance(row, str):\n",
        "            matches = re.findall(email_regex, row)\n",
        "            emails.extend(matches)"
      ],
      "metadata": {
        "id": "Zn9EQfRo8TX6"
      },
      "execution_count": 20,
      "outputs": []
    },
    {
      "cell_type": "code",
      "source": [
        "# Extract unique values \n",
        "unique = [x for i, x in enumerate(emails) if i == emails.index(x)]"
      ],
      "metadata": {
        "id": "4x-Vk24Z8XzH"
      },
      "execution_count": 27,
      "outputs": []
    },
    {
      "cell_type": "code",
      "source": [
        "# Convert to dataframe\n",
        "email_csv = pd.DataFrame(unique, columns = ['Emails']) "
      ],
      "metadata": {
        "id": "vboYJ7pU8aZp"
      },
      "execution_count": 28,
      "outputs": []
    },
    {
      "cell_type": "code",
      "source": [
        "# Customize and save to Excel\n",
        "writer = pd.ExcelWriter('parsed_emails.xlsx')                     # change for a different output file name\n",
        "email_csv.to_excel(writer, sheet_name = 'Emails', index = False, na_rep = 'NaN')\n",
        "\n",
        "for column in email_csv:\n",
        "    column_width = max(email_csv[column].astype(str).map(len).max(), len(column))\n",
        "    col_idx = email_csv.columns.get_loc(column)\n",
        "    writer.sheets['Emails'].set_column(col_idx, col_idx, column_width)\n",
        "\n",
        "writer.save()"
      ],
      "metadata": {
        "id": "tZ68Ggzb-j1x"
      },
      "execution_count": 33,
      "outputs": []
    },
    {
      "cell_type": "code",
      "source": [],
      "metadata": {
        "id": "2j3TW2bqBCTT"
      },
      "execution_count": null,
      "outputs": []
    }
  ]
}