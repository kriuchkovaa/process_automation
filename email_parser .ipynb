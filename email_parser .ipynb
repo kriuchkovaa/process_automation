{
  "cells": [
    {
      "cell_type": "code",
      "execution_count": null,
      "metadata": {
        "id": "4M_bdnUPBoga"
      },
      "outputs": [],
      "source": [
        "! pip install xlsxwriter         "
      ]
    },
    {
      "cell_type": "code",
      "execution_count": null,
      "metadata": {
        "id": "UkTmvSI77KV-"
      },
      "outputs": [],
      "source": [
        "# Importing dependencies \n",
        "import pandas as pd \n",
        "import re\n",
        "import numpy as np \n",
        "import xlsxwriter"
      ]
    },
    {
      "cell_type": "code",
      "execution_count": null,
      "metadata": {
        "colab": {
          "base_uri": "https://localhost:8080/",
          "height": 206
        },
        "id": "2XtQwgl17X1I",
        "outputId": "c6f5216d-4201-48aa-f744-a5e493b87dfa"
      },
      "outputs": [],
      "source": [
        "# Opening the file and checking content\n",
        "df = pd.read_csv(\"sent files.CSV\")         # change file name in the brackets to your input\n",
        "df.head()"
      ]
    },
    {
      "cell_type": "code",
      "execution_count": null,
      "metadata": {
        "id": "4hPR3T3v7iIQ"
      },
      "outputs": [],
      "source": [
        "# Define a regular expression to extract email addresses\n",
        "email_regex = r'\\b[A-Za-z0-9._%+-]+@[A-Za-z0-9.-]+\\.[A-Z|a-z]{2,}\\b'"
      ]
    },
    {
      "cell_type": "code",
      "execution_count": null,
      "metadata": {
        "id": "Zn9EQfRo8TX6"
      },
      "outputs": [],
      "source": [
        "# Extract email addresses from the file\n",
        "emails = []\n",
        "for column in df.columns:\n",
        "    for row in df[column]:\n",
        "        if isinstance(row, str):\n",
        "            matches = re.findall(email_regex, row)\n",
        "            emails.extend(matches)"
      ]
    },
    {
      "cell_type": "code",
      "execution_count": null,
      "metadata": {
        "id": "4x-Vk24Z8XzH"
      },
      "outputs": [],
      "source": [
        "# Extract unique values \n",
        "unique = [x for i, x in enumerate(emails) if i == emails.index(x)]"
      ]
    },
    {
      "cell_type": "code",
      "execution_count": null,
      "metadata": {
        "id": "vboYJ7pU8aZp"
      },
      "outputs": [],
      "source": [
        "# Convert to dataframe\n",
        "email_csv = pd.DataFrame(unique, columns = ['Emails']) "
      ]
    },
    {
      "cell_type": "code",
      "execution_count": null,
      "metadata": {
        "id": "tZ68Ggzb-j1x"
      },
      "outputs": [],
      "source": [
        "# Customize and save to Excel\n",
        "writer = pd.ExcelWriter('parsed_emails.xlsx')                     # change for a different output file name\n",
        "email_csv.to_excel(writer, sheet_name = 'Emails', index = False, na_rep = 'NaN')\n",
        "\n",
        "for column in email_csv:\n",
        "    column_width = max(email_csv[column].astype(str).map(len).max(), len(column))\n",
        "    col_idx = email_csv.columns.get_loc(column)\n",
        "    writer.sheets['Emails'].set_column(col_idx, col_idx, column_width)\n",
        "\n",
        "writer.save()"
      ]
    },
    {
      "cell_type": "code",
      "execution_count": null,
      "metadata": {
        "id": "2j3TW2bqBCTT"
      },
      "outputs": [],
      "source": []
    }
  ],
  "metadata": {
    "colab": {
      "provenance": []
    },
    "kernelspec": {
      "display_name": "Python 3",
      "name": "python3"
    },
    "language_info": {
      "name": "python"
    }
  },
  "nbformat": 4,
  "nbformat_minor": 0
}
