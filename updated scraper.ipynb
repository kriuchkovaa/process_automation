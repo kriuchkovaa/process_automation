{
 "cells": [
  {
   "cell_type": "code",
   "execution_count": null,
   "metadata": {},
   "outputs": [],
   "source": [
    "from selenium import webdriver\n",
    "from selenium.webdriver.edge.options import Options\n",
    "from selenium.webdriver.common.by import By \n",
    "\n",
    "from selenium.webdriver.support.ui import WebDriverWait\n",
    "from selenium.webdriver.support import expected_conditions as EC\n",
    "\n",
    "from selenium.webdriver.support.ui import WebDriverWait\n",
    "from selenium.webdriver.common.by import By\n",
    "from selenium.webdriver.support import expected_conditions as EC\n",
    "from selenium.common.exceptions import TimeoutException, StaleElementReferenceException, NoSuchElementException\n",
    "import time\n",
    "\n",
    "import pandas as pd\n",
    "\n",
    "# Create EdgeOptions instance\n",
    "edge_options = Options()\n",
    "edge_options.add_argument(\"--guest\")\n",
    "\n",
    "# Initialize WebDriver with options\n",
    "driver = webdriver.Edge(options=edge_options)\n",
    "driver.maximize_window()\n",
    "\n",
    "# Open Google Jobs\n",
    "search_keyword = \"data science jobs\"\n",
    "driver.get(f\"https://www.google.com/search?q={search_keyword}&ibp=htl;jobs\")\n",
    "time.sleep(3)"
   ]
  },
  {
   "cell_type": "code",
   "execution_count": null,
   "metadata": {},
   "outputs": [],
   "source": [
    "# Create a df to populate\n",
    "df = pd.DataFrame(columns=['Job Posting', 'Company', 'Location', 'URL'])\n",
    "\n",
    "keep_scrolling = True\n",
    "\n",
    "seen_postings = set()\n",
    "\n",
    "while keep_scrolling:\n",
    "    all_items = WebDriverWait(driver, 10).until(\n",
    "        EC.presence_of_all_elements_located((By.CLASS_NAME, \"PwjeAc\"))\n",
    "    )\n",
    "\n",
    "    new_postings_found = False\n",
    "\n",
    "    job_posting_elements = []\n",
    "    for item in all_items:\n",
    "        job_posting_elements.append(item)\n",
    "\n",
    "    for item in job_posting_elements:\n",
    "        try:\n",
    "            position_element = item.find_element(By.CLASS_NAME, \"BjJfJf.PUpOsf\")\n",
    "            position_text = position_element.text.strip()\n",
    "\n",
    "            company_element = item.find_element(By.CLASS_NAME, \"vNEEBe\")\n",
    "            company_text = company_element.text.strip()\n",
    "\n",
    "            location_element = item.find_element(By.CLASS_NAME, \"Qk80Jf\")\n",
    "            location_text = location_element.text.strip()\n",
    "\n",
    "            posting_key = (position_text, company_text, location_text)\n",
    "\n",
    "            if posting_key not in seen_postings:\n",
    "                seen_postings.add(posting_key)\n",
    "                new_postings_found = True\n",
    "\n",
    "                print(f\"Job Position: {position_text}\")\n",
    "                print(f\"Company: {company_text}\")\n",
    "                print(f\"Location: {location_text}\")\n",
    "\n",
    "                try:\n",
    "                    link_element = item.find_element(By.CSS_SELECTOR, \"a.pMhGee\")\n",
    "                    link_url = link_element.get_attribute(\"href\")\n",
    "                except NoSuchElementException:\n",
    "                    link_url = \"N/A\"\n",
    "\n",
    "                df = df.append({'Job Posting': position_text, 'Company': company_text, 'Location': location_text, 'URL': link_url}, ignore_index=True)\n",
    "\n",
    "        except (StaleElementReferenceException, NoSuchElementException):\n",
    "            continue\n",
    "\n",
    "    if not new_postings_found:\n",
    "        keep_scrolling = False\n",
    "    else:\n",
    "        # Scroll the side menu\n",
    "        side_menu = WebDriverWait(driver, 10).until(\n",
    "            EC.presence_of_element_located((By.CLASS_NAME, \"zxU94d.gws-plugins-horizon-jobs__tl-lvc\"))\n",
    "        )\n",
    "        driver.execute_script(\"arguments[0].scrollTop = arguments[0].scrollHeight\", side_menu)\n",
    "        time.sleep(15)  # wait to load more posts\n"
   ]
  },
  {
   "cell_type": "code",
   "execution_count": null,
   "metadata": {},
   "outputs": [],
   "source": [
    "df.to_excel(\"results.xlsx\", index = False)"
   ]
  },
  {
   "cell_type": "code",
   "execution_count": null,
   "metadata": {},
   "outputs": [],
   "source": [
    "len(df)  # confirm num of entries for tracking"
   ]
  },
  {
   "cell_type": "code",
   "execution_count": null,
   "metadata": {},
   "outputs": [],
   "source": []
  }
 ],
 "metadata": {
  "kernelspec": {
   "display_name": "base",
   "language": "python",
   "name": "python3"
  },
  "language_info": {
   "codemirror_mode": {
    "name": "ipython",
    "version": 3
   },
   "file_extension": ".py",
   "mimetype": "text/x-python",
   "name": "python",
   "nbconvert_exporter": "python",
   "pygments_lexer": "ipython3",
   "version": "3.8.8"
  }
 },
 "nbformat": 4,
 "nbformat_minor": 2
}
